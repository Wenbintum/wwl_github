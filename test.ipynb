{
 "metadata": {
  "language_info": {
   "codemirror_mode": {
    "name": "ipython",
    "version": 3
   },
   "file_extension": ".py",
   "mimetype": "text/x-python",
   "name": "python",
   "nbconvert_exporter": "python",
   "pygments_lexer": "ipython3",
   "version": "3.8.5-final"
  },
  "orig_nbformat": 2,
  "kernelspec": {
   "name": "python3",
   "display_name": "Python 3",
   "language": "python"
  }
 },
 "nbformat": 4,
 "nbformat_minor": 2,
 "cells": [
  {
   "cell_type": "code",
   "execution_count": 1,
   "metadata": {},
   "outputs": [],
   "source": [
    "from wwl import wwl\n",
    "from Utility import CollectInputNames, get_catkit_attribute\n",
    "from Processdata import GraphBase, GraphGroup, CollectDatatoPandas\n",
    "import os\n",
    "from Analyzer import KF_validation\n",
    "import time\n",
    "import random\n",
    "from GPR import GaussianProcessRegressor"
   ]
  },
  {
   "cell_type": "code",
   "execution_count": 2,
   "metadata": {},
   "outputs": [],
   "source": [
    "database_path   = 'Data/small_adsorbate/'\n",
    "feature_list = ['electron_affinity','vdw_radius']\n",
    "graphs_object   = GraphGroup(database_path, cutoff_mult=1, weighted=False, skin=0.1)\n",
    "file_names      = CollectInputNames(database_path)\n",
    "graphs          = graphs_object.Collect_graph()\n",
    "catkit_pool     = get_catkit_attribute()\n",
    "node_attributes = graphs_object.Collect_node_attributes(feature_list, attributes_pool=catkit_pool, normalize=False)\n",
    "ads_energies    = graphs_object.Collect_ads_energies()\n",
    "datas           = CollectDatatoPandas(graphs, ads_energies, file_names)"
   ]
  },
  {
   "cell_type": "code",
   "execution_count": 3,
   "metadata": {},
   "outputs": [
    {
     "output_type": "stream",
     "name": "stdout",
     "text": [
      "Continuous node features provided, using CONTINUOUS propagation scheme.\n"
     ]
    }
   ],
   "source": [
    "kernel_matrix = wwl(graphs, node_features=node_attributes, num_iterations=1, sinkhorn=False, gamma=None)"
   ]
  },
  {
   "cell_type": "code",
   "execution_count": 4,
   "metadata": {},
   "outputs": [
    {
     "output_type": "execute_result",
     "data": {
      "text/plain": [
       "(312, 312)"
      ]
     },
     "metadata": {},
     "execution_count": 4
    }
   ],
   "source": [
    "kernel_matrix.shape"
   ]
  },
  {
   "cell_type": "code",
   "execution_count": 5,
   "metadata": {},
   "outputs": [],
   "source": [
    "from sklearn.model_selection import train_test_split\n",
    "import numpy as np\n",
    "num_rows = kernel_matrix.shape[0]\n",
    "indices = np.arange(num_rows)\n",
    "train_idx, val_idx = train_test_split(indices, test_size=0.2, train_size=None)"
   ]
  },
  {
   "source": [
    "generating the index of training and validation "
   ],
   "cell_type": "markdown",
   "metadata": {}
  },
  {
   "cell_type": "code",
   "execution_count": 6,
   "metadata": {},
   "outputs": [],
   "source": [
    "train_matrix = kernel_matrix[train_idx][:,train_idx]\n",
    "test_matrix  = kernel_matrix[val_idx][:,train_idx]\n",
    "kyy = kernel_matrix[val_idx][:,val_idx]\n",
    "y_train = datas['target'][train_idx]; y_test = datas['target'][val_idx]"
   ]
  },
  {
   "cell_type": "code",
   "execution_count": 7,
   "metadata": {},
   "outputs": [
    {
     "output_type": "stream",
     "name": "stdout",
     "text": [
      "(249, 249) (63, 249) (63, 63)\n"
     ]
    }
   ],
   "source": [
    "print(train_matrix.shape, test_matrix.shape, kyy.shape)"
   ]
  },
  {
   "cell_type": "code",
   "execution_count": 8,
   "metadata": {},
   "outputs": [],
   "source": [
    "gp=GaussianProcessRegressor(kernel='precomputed')"
   ]
  },
  {
   "cell_type": "code",
   "execution_count": 9,
   "metadata": {},
   "outputs": [
    {
     "output_type": "execute_result",
     "data": {
      "text/plain": [
       "GaussianProcessRegressor(kernel='precomputed')"
      ]
     },
     "metadata": {},
     "execution_count": 9
    }
   ],
   "source": [
    "gp.fit(train_matrix, y_train)"
   ]
  },
  {
   "cell_type": "code",
   "execution_count": 10,
   "metadata": {},
   "outputs": [],
   "source": [
    "test_pre, y_std = gp.predict(test_matrix, kyy=kyy, return_std=True)"
   ]
  },
  {
   "cell_type": "code",
   "execution_count": 11,
   "metadata": {},
   "outputs": [
    {
     "output_type": "execute_result",
     "data": {
      "text/plain": [
       "array([0.01411262, 0.01783656, 0.01451263, 0.02299428, 0.01339926,\n",
       "       0.01612978, 0.0137293 , 0.021597  , 0.01361209, 0.02563478,\n",
       "       0.01488377, 0.01236459, 0.02218925, 0.05218045, 0.15874443,\n",
       "       0.02080509, 0.15931354, 0.01474394, 0.01481799, 0.04678964,\n",
       "       0.03661456, 0.01675487, 0.01463214, 0.12690989, 0.01967374,\n",
       "       0.0243456 , 0.03242337, 0.01548856, 0.01848588, 0.05807736,\n",
       "       0.01422667, 0.1270801 , 0.01634731, 0.01530949, 0.03534133,\n",
       "       0.01751151, 0.02834901, 0.04651919, 0.01477396, 0.01465652,\n",
       "       0.01699576, 0.02039873, 0.02109232, 0.02159805, 0.01490573,\n",
       "       0.01819724, 0.02452122, 0.01629721, 0.01467638, 0.02930932,\n",
       "       0.05220531, 0.03194591, 0.05948417, 0.01476598, 0.0133348 ,\n",
       "       0.01421086, 0.0264905 , 0.01306746, 0.02621044, 0.08813617,\n",
       "       0.01305638, 0.012352  , 0.01375289])"
      ]
     },
     "metadata": {},
     "execution_count": 11
    }
   ],
   "source": [
    "y_std"
   ]
  },
  {
   "cell_type": "code",
   "execution_count": 13,
   "metadata": {},
   "outputs": [],
   "source": [
    "test_pre, cov = gp.predict(test_matrix, kyy=kyy, return_cov=True)"
   ]
  },
  {
   "cell_type": "code",
   "execution_count": 17,
   "metadata": {},
   "outputs": [
    {
     "output_type": "execute_result",
     "data": {
      "text/plain": [
       "81     0.468864\n",
       "218    0.199800\n",
       "105    0.058686\n",
       "189   -0.409783\n",
       "255    0.041590\n",
       "211   -0.009383\n",
       "163   -0.090291\n",
       "308    0.229054\n",
       "153    0.002347\n",
       "123    0.640007\n",
       "73     0.797608\n",
       "22    -0.261935\n",
       "118    0.164446\n",
       "187    0.296769\n",
       "229    1.703365\n",
       "231    0.113125\n",
       "292    1.582531\n",
       "277    0.609322\n",
       "310    0.798427\n",
       "253   -0.380260\n",
       "174   -0.382991\n",
       "289    0.241304\n",
       "138    0.218589\n",
       "49    -0.148683\n",
       "11    -0.925281\n",
       "1      0.430662\n",
       "14     0.260790\n",
       "305    0.184344\n",
       "102   -0.299188\n",
       "139   -0.585356\n",
       "         ...   \n",
       "230    0.558277\n",
       "282   -0.168840\n",
       "151    0.449025\n",
       "143    0.198562\n",
       "124   -0.876360\n",
       "39     0.233536\n",
       "240   -0.000252\n",
       "301    0.548894\n",
       "297   -0.157039\n",
       "21     0.251555\n",
       "127    0.077407\n",
       "95     2.263729\n",
       "304   -0.190794\n",
       "114    0.002845\n",
       "30     0.431495\n",
       "241    0.263191\n",
       "209    0.643509\n",
       "147    0.297511\n",
       "269    0.001388\n",
       "283    0.219191\n",
       "126    0.184241\n",
       "204    0.023283\n",
       "79     0.000324\n",
       "270   -0.134958\n",
       "56    -0.008462\n",
       "80     0.129240\n",
       "12    -0.251669\n",
       "46    -0.020688\n",
       "248    0.282429\n",
       "156    0.004917\n",
       "Name: target, Length: 63, dtype: float64"
      ]
     },
     "metadata": {},
     "execution_count": 17
    }
   ],
   "source": [
    "test_pre - y_test"
   ]
  },
  {
   "cell_type": "code",
   "execution_count": null,
   "metadata": {},
   "outputs": [],
   "source": []
  }
 ]
}